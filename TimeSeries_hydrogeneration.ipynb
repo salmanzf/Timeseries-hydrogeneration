{
  "nbformat": 4,
  "nbformat_minor": 0,
  "metadata": {
    "colab": {
      "name": "TimeSeries-hydrogeneration.ipynb",
      "provenance": [],
      "collapsed_sections": []
    },
    "kernelspec": {
      "name": "python3",
      "display_name": "Python 3"
    },
    "language_info": {
      "name": "python"
    }
  },
  "cells": [
    {
      "cell_type": "code",
      "metadata": {
        "id": "RdPDKaF_35Je"
      },
      "source": [
        "import os\n",
        "os.environ['KAGGLE_USERNAME'] = #'user'\n",
        "os.environ['KAGGLE_KEY'] = #'key'"
      ],
      "execution_count": 1,
      "outputs": []
    },
    {
      "cell_type": "code",
      "metadata": {
        "colab": {
          "base_uri": "https://localhost:8080/"
        },
        "id": "98fPYjog5BAP",
        "outputId": "f32885bb-b560-4fee-96ad-0fcf6f26bf93"
      },
      "source": [
        "!kaggle datasets download -d navinmundhra/daily-power-generation-in-india-20172020"
      ],
      "execution_count": 2,
      "outputs": [
        {
          "output_type": "stream",
          "text": [
            "daily-power-generation-in-india-20172020.zip: Skipping, found more recently modified local copy (use --force to force download)\n"
          ],
          "name": "stdout"
        }
      ]
    },
    {
      "cell_type": "code",
      "metadata": {
        "colab": {
          "base_uri": "https://localhost:8080/"
        },
        "id": "5Wf6I5qM5a3_",
        "outputId": "f673c47d-ad8b-45ca-8504-d6950644e761"
      },
      "source": [
        "!unzip -q daily-power-generation-in-india-20172020 -d ."
      ],
      "execution_count": 3,
      "outputs": [
        {
          "output_type": "stream",
          "text": [
            "replace ./State_Region_corrected.csv? [y]es, [n]o, [A]ll, [N]one, [r]ename: "
          ],
          "name": "stdout"
        }
      ]
    },
    {
      "cell_type": "code",
      "metadata": {
        "id": "vyhthVPu5fVV"
      },
      "source": [
        "import numpy as np\n",
        "import pandas as pd\n",
        "from keras.layers import Dense, LSTM\n",
        "import matplotlib.pyplot as plt\n",
        "import tensorflow as tf"
      ],
      "execution_count": 4,
      "outputs": []
    },
    {
      "cell_type": "code",
      "metadata": {
        "colab": {
          "base_uri": "https://localhost:8080/"
        },
        "id": "k3etZmZF5tMu",
        "outputId": "7f19df9c-6acc-4fa2-90da-6a97241506df"
      },
      "source": [
        "df = pd.read_csv('file_02.csv')\n",
        "df.info()"
      ],
      "execution_count": 5,
      "outputs": [
        {
          "output_type": "stream",
          "text": [
            "<class 'pandas.core.frame.DataFrame'>\n",
            "RangeIndex: 4945 entries, 0 to 4944\n",
            "Data columns (total 9 columns):\n",
            " #   Column                                Non-Null Count  Dtype  \n",
            "---  ------                                --------------  -----  \n",
            " 0   index                                 4945 non-null   int64  \n",
            " 1   Date                                  4945 non-null   object \n",
            " 2   Region                                4945 non-null   object \n",
            " 3   Thermal Generation Actual (in MU)     4945 non-null   object \n",
            " 4   Thermal Generation Estimated (in MU)  4945 non-null   object \n",
            " 5   Nuclear Generation Actual (in MU)     2967 non-null   float64\n",
            " 6   Nuclear Generation Estimated (in MU)  2967 non-null   float64\n",
            " 7   Hydro Generation Actual (in MU)       4945 non-null   float64\n",
            " 8   Hydro Generation Estimated (in MU)    4945 non-null   float64\n",
            "dtypes: float64(4), int64(1), object(4)\n",
            "memory usage: 347.8+ KB\n"
          ],
          "name": "stdout"
        }
      ]
    },
    {
      "cell_type": "code",
      "metadata": {
        "colab": {
          "base_uri": "https://localhost:8080/",
          "height": 340
        },
        "id": "yyhAv-zN8Rzp",
        "outputId": "b9ad223b-f159-4655-d5d7-44e7d5af6d6c"
      },
      "source": [
        "df = df[df.Region == 'Eastern']\n",
        "df.head()"
      ],
      "execution_count": 6,
      "outputs": [
        {
          "output_type": "execute_result",
          "data": {
            "text/html": [
              "<div>\n",
              "<style scoped>\n",
              "    .dataframe tbody tr th:only-of-type {\n",
              "        vertical-align: middle;\n",
              "    }\n",
              "\n",
              "    .dataframe tbody tr th {\n",
              "        vertical-align: top;\n",
              "    }\n",
              "\n",
              "    .dataframe thead th {\n",
              "        text-align: right;\n",
              "    }\n",
              "</style>\n",
              "<table border=\"1\" class=\"dataframe\">\n",
              "  <thead>\n",
              "    <tr style=\"text-align: right;\">\n",
              "      <th></th>\n",
              "      <th>index</th>\n",
              "      <th>Date</th>\n",
              "      <th>Region</th>\n",
              "      <th>Thermal Generation Actual (in MU)</th>\n",
              "      <th>Thermal Generation Estimated (in MU)</th>\n",
              "      <th>Nuclear Generation Actual (in MU)</th>\n",
              "      <th>Nuclear Generation Estimated (in MU)</th>\n",
              "      <th>Hydro Generation Actual (in MU)</th>\n",
              "      <th>Hydro Generation Estimated (in MU)</th>\n",
              "    </tr>\n",
              "  </thead>\n",
              "  <tbody>\n",
              "    <tr>\n",
              "      <th>3</th>\n",
              "      <td>3</td>\n",
              "      <td>2017-09-01</td>\n",
              "      <td>Eastern</td>\n",
              "      <td>441.02</td>\n",
              "      <td>429.39</td>\n",
              "      <td>NaN</td>\n",
              "      <td>NaN</td>\n",
              "      <td>85.94</td>\n",
              "      <td>69.36</td>\n",
              "    </tr>\n",
              "    <tr>\n",
              "      <th>8</th>\n",
              "      <td>8</td>\n",
              "      <td>2017-09-02</td>\n",
              "      <td>Eastern</td>\n",
              "      <td>441.02</td>\n",
              "      <td>425.75</td>\n",
              "      <td>NaN</td>\n",
              "      <td>NaN</td>\n",
              "      <td>85.94</td>\n",
              "      <td>74.18</td>\n",
              "    </tr>\n",
              "    <tr>\n",
              "      <th>13</th>\n",
              "      <td>13</td>\n",
              "      <td>2017-09-03</td>\n",
              "      <td>Eastern</td>\n",
              "      <td>445.38</td>\n",
              "      <td>427.61</td>\n",
              "      <td>NaN</td>\n",
              "      <td>NaN</td>\n",
              "      <td>85.94</td>\n",
              "      <td>71.05</td>\n",
              "    </tr>\n",
              "    <tr>\n",
              "      <th>18</th>\n",
              "      <td>18</td>\n",
              "      <td>2017-09-04</td>\n",
              "      <td>Eastern</td>\n",
              "      <td>445.38</td>\n",
              "      <td>450.85</td>\n",
              "      <td>NaN</td>\n",
              "      <td>NaN</td>\n",
              "      <td>85.94</td>\n",
              "      <td>75.21</td>\n",
              "    </tr>\n",
              "    <tr>\n",
              "      <th>23</th>\n",
              "      <td>23</td>\n",
              "      <td>2017-09-05</td>\n",
              "      <td>Eastern</td>\n",
              "      <td>449.92</td>\n",
              "      <td>459.09</td>\n",
              "      <td>NaN</td>\n",
              "      <td>NaN</td>\n",
              "      <td>85.94</td>\n",
              "      <td>70.29</td>\n",
              "    </tr>\n",
              "  </tbody>\n",
              "</table>\n",
              "</div>"
            ],
            "text/plain": [
              "    index  ... Hydro Generation Estimated (in MU)\n",
              "3       3  ...                              69.36\n",
              "8       8  ...                              74.18\n",
              "13     13  ...                              71.05\n",
              "18     18  ...                              75.21\n",
              "23     23  ...                              70.29\n",
              "\n",
              "[5 rows x 9 columns]"
            ]
          },
          "metadata": {
            "tags": []
          },
          "execution_count": 6
        }
      ]
    },
    {
      "cell_type": "code",
      "metadata": {
        "colab": {
          "base_uri": "https://localhost:8080/"
        },
        "id": "Ze9I7TwUCcl8",
        "outputId": "fff5fc64-73f4-4159-d2b1-9bbfd020e0ff"
      },
      "source": [
        "df.info()"
      ],
      "execution_count": 7,
      "outputs": [
        {
          "output_type": "stream",
          "text": [
            "<class 'pandas.core.frame.DataFrame'>\n",
            "Int64Index: 989 entries, 3 to 4943\n",
            "Data columns (total 9 columns):\n",
            " #   Column                                Non-Null Count  Dtype  \n",
            "---  ------                                --------------  -----  \n",
            " 0   index                                 989 non-null    int64  \n",
            " 1   Date                                  989 non-null    object \n",
            " 2   Region                                989 non-null    object \n",
            " 3   Thermal Generation Actual (in MU)     989 non-null    object \n",
            " 4   Thermal Generation Estimated (in MU)  989 non-null    object \n",
            " 5   Nuclear Generation Actual (in MU)     0 non-null      float64\n",
            " 6   Nuclear Generation Estimated (in MU)  0 non-null      float64\n",
            " 7   Hydro Generation Actual (in MU)       989 non-null    float64\n",
            " 8   Hydro Generation Estimated (in MU)    989 non-null    float64\n",
            "dtypes: float64(4), int64(1), object(4)\n",
            "memory usage: 77.3+ KB\n"
          ],
          "name": "stdout"
        }
      ]
    },
    {
      "cell_type": "code",
      "metadata": {
        "colab": {
          "base_uri": "https://localhost:8080/"
        },
        "id": "gk-c5bi_APg0",
        "outputId": "7f8d503b-d792-40f1-f990-5d26bf71fcc9"
      },
      "source": [
        "df.isnull().sum()"
      ],
      "execution_count": 8,
      "outputs": [
        {
          "output_type": "execute_result",
          "data": {
            "text/plain": [
              "index                                     0\n",
              "Date                                      0\n",
              "Region                                    0\n",
              "Thermal Generation Actual (in MU)         0\n",
              "Thermal Generation Estimated (in MU)      0\n",
              "Nuclear Generation Actual (in MU)       989\n",
              "Nuclear Generation Estimated (in MU)    989\n",
              "Hydro Generation Actual (in MU)           0\n",
              "Hydro Generation Estimated (in MU)        0\n",
              "dtype: int64"
            ]
          },
          "metadata": {
            "tags": []
          },
          "execution_count": 8
        }
      ]
    },
    {
      "cell_type": "code",
      "metadata": {
        "colab": {
          "base_uri": "https://localhost:8080/",
          "height": 341
        },
        "id": "6Wnq8nfS_IwL",
        "outputId": "a1449bba-ad5f-4667-a05e-c0a0efc1c83b"
      },
      "source": [
        "dates = df['Date'].values\n",
        "rates = df['Hydro Generation Actual (in MU)'].values\n",
        "rates = rates.astype(float)\n",
        " \n",
        "plt.figure(figsize=(15,5))\n",
        "plt.plot(dates, rates)\n",
        "plt.title('Minimal Temperature of Seattle',\n",
        "          fontsize=20);"
      ],
      "execution_count": 9,
      "outputs": [
        {
          "output_type": "display_data",
          "data": {
            "image/png": "[encoded data removed]",
            "text/plain": [
              "<Figure size 1080x360 with 1 Axes>"
            ]
          },
          "metadata": {
            "tags": [],
            "needs_background": "light"
          }
        }
      ]
    },
    {
      "cell_type": "code",
      "metadata": {
        "colab": {
          "base_uri": "https://localhost:8080/"
        },
        "id": "p0yD7b-eAajW",
        "outputId": "3ea7de33-dade-4da5-f2d2-828e70952342"
      },
      "source": [
        "#mae acuan\n",
        "mae10 = (max(rates) - min(rates))*0.1\n",
        "mae10"
      ],
      "execution_count": 10,
      "outputs": [
        {
          "output_type": "execute_result",
          "data": {
            "text/plain": [
              "8.665"
            ]
          },
          "metadata": {
            "tags": []
          },
          "execution_count": 10
        }
      ]
    },
    {
      "cell_type": "code",
      "metadata": {
        "id": "5S2MRiWfEUsh"
      },
      "source": [
        "#splitting training and test set\n",
        "x_train = dates[:int(dates.shape[0]*0.8)]\n",
        "x_test = dates[int(dates.shape[0]*0.8):]\n",
        "y_train = rates[:int(dates.shape[0]*0.8)]\n",
        "y_test = rates[int(dates.shape[0]*0.8):]"
      ],
      "execution_count": 11,
      "outputs": []
    },
    {
      "cell_type": "code",
      "metadata": {
        "id": "wA53TxSGEYfp"
      },
      "source": [
        "#defining window function\n",
        "def windowed_dataset(series, window_size, batch_size, shuffle_buffer):\n",
        "    series = tf.expand_dims(series, axis=-1)\n",
        "    ds = tf.data.Dataset.from_tensor_slices(series)\n",
        "    ds = ds.window(window_size + 1, shift=1, drop_remainder=True)\n",
        "    ds = ds.flat_map(lambda w: w.batch(window_size + 1))\n",
        "    ds = ds.shuffle(shuffle_buffer)\n",
        "    ds = ds.map(lambda w: (w[:-1], w[-1:]))\n",
        "    return ds.batch(batch_size).prefetch(1)"
      ],
      "execution_count": 12,
      "outputs": []
    },
    {
      "cell_type": "code",
      "metadata": {
        "id": "rqbgq_kIFa7Z"
      },
      "source": [
        "#assign test and train set\n",
        "train_set = windowed_dataset(y_train, window_size=60, batch_size=100, shuffle_buffer=1000)\n",
        "test_set = windowed_dataset(y_test, window_size=60, batch_size=100, shuffle_buffer=1000)"
      ],
      "execution_count": 13,
      "outputs": []
    },
    {
      "cell_type": "code",
      "metadata": {
        "id": "gt4lSDV-FfoL"
      },
      "source": [
        "#create sequential model\n",
        "model = tf.keras.models.Sequential([\n",
        "  tf.keras.layers.LSTM(64, return_sequences=True),\n",
        "  tf.keras.layers.Dropout(0.2),\n",
        "  tf.keras.layers.LSTM(64),\n",
        "  tf.keras.layers.Dropout(0.2),\n",
        "  tf.keras.layers.Dense(32, activation=\"relu\"),\n",
        "  tf.keras.layers.Dropout(0.2),\n",
        "  tf.keras.layers.Dense(64, activation=\"relu\"),\n",
        "  tf.keras.layers.Dropout(0.2),\n",
        "  tf.keras.layers.Dense(128, activation=\"relu\"),\n",
        "  tf.keras.layers.Dropout(0.2),\n",
        "  tf.keras.layers.Dense(256, activation=\"relu\"),\n",
        "  tf.keras.layers.Dropout(0.2),\n",
        "  tf.keras.layers.Dense(512, activation=\"relu\"),\n",
        "  tf.keras.layers.Dense(1)\n",
        "])"
      ],
      "execution_count": 14,
      "outputs": []
    },
    {
      "cell_type": "code",
      "metadata": {
        "colab": {
          "base_uri": "https://localhost:8080/"
        },
        "id": "-hDPaYSRFhsR",
        "outputId": "1fc5670a-c0f0-4885-e0db-a90732ab5a36"
      },
      "source": [
        "#compile\n",
        "optimizer = tf.keras.optimizers.SGD(lr=1.0000e-04, momentum=0.9)\n",
        "\n",
        "model.compile(loss=tf.keras.losses.Huber(),\n",
        "              optimizer=optimizer,\n",
        "              metrics=[\"mae\"])"
      ],
      "execution_count": 15,
      "outputs": [
        {
          "output_type": "stream",
          "text": [
            "/usr/local/lib/python3.7/dist-packages/tensorflow/python/keras/optimizer_v2/optimizer_v2.py:375: UserWarning: The `lr` argument is deprecated, use `learning_rate` instead.\n",
            "  \"The `lr` argument is deprecated, use `learning_rate` instead.\")\n"
          ],
          "name": "stderr"
        }
      ]
    },
    {
      "cell_type": "code",
      "metadata": {
        "id": "csjnHrjQFkly"
      },
      "source": [
        "#callback function\n",
        "class myCallback(tf.keras.callbacks.Callback):\n",
        "  def on_epoch_end(self, epoch, logs={}):\n",
        "    if(logs.get('val_mae')<mae10 and logs.get('mae')<mae10):\n",
        "      print(\"\\nMAE telah mencapai < 10% skala data!\")\n",
        "      self.model.stop_training = True\n",
        "callbacks = myCallback()"
      ],
      "execution_count": 16,
      "outputs": []
    },
    {
      "cell_type": "code",
      "metadata": {
        "colab": {
          "base_uri": "https://localhost:8080/"
        },
        "id": "ybAdqjCWFzR7",
        "outputId": "e7c9c198-1943-4fc9-c2f3-8f2933fe335e"
      },
      "source": [
        "#train data\n",
        "history = model.fit(train_set,\n",
        "                    validation_data=test_set,\n",
        "                    epochs=200,\n",
        "                    callbacks=[callbacks])"
      ],
      "execution_count": 17,
      "outputs": [
        {
          "output_type": "stream",
          "text": [
            "Epoch 1/200\n",
            "8/8 [==============================] - 7s 286ms/step - loss: 48.5522 - mae: 49.0522 - val_loss: 47.1636 - val_mae: 47.6636\n",
            "Epoch 2/200\n",
            "8/8 [==============================] - 1s 133ms/step - loss: 48.5408 - mae: 49.0408 - val_loss: 47.1493 - val_mae: 47.6493\n",
            "Epoch 3/200\n",
            "8/8 [==============================] - 1s 133ms/step - loss: 48.5238 - mae: 49.0238 - val_loss: 47.1321 - val_mae: 47.6321\n",
            "Epoch 4/200\n",
            "8/8 [==============================] - 1s 138ms/step - loss: 48.5074 - mae: 49.0074 - val_loss: 47.1138 - val_mae: 47.6138\n",
            "Epoch 5/200\n",
            "8/8 [==============================] - 1s 133ms/step - loss: 48.4872 - mae: 48.9872 - val_loss: 47.0951 - val_mae: 47.5951\n",
            "Epoch 6/200\n",
            "8/8 [==============================] - 1s 136ms/step - loss: 48.4686 - mae: 48.9686 - val_loss: 47.0762 - val_mae: 47.5762\n",
            "Epoch 7/200\n",
            "8/8 [==============================] - 1s 136ms/step - loss: 48.4479 - mae: 48.9479 - val_loss: 47.0573 - val_mae: 47.5573\n",
            "Epoch 8/200\n",
            "8/8 [==============================] - 1s 135ms/step - loss: 48.4270 - mae: 48.9270 - val_loss: 47.0383 - val_mae: 47.5383\n",
            "Epoch 9/200\n",
            "8/8 [==============================] - 1s 133ms/step - loss: 48.4091 - mae: 48.9091 - val_loss: 47.0191 - val_mae: 47.5191\n",
            "Epoch 10/200\n",
            "8/8 [==============================] - 1s 133ms/step - loss: 48.3872 - mae: 48.8872 - val_loss: 46.9998 - val_mae: 47.4998\n",
            "Epoch 11/200\n",
            "8/8 [==============================] - 1s 133ms/step - loss: 48.3703 - mae: 48.8703 - val_loss: 46.9803 - val_mae: 47.4803\n",
            "Epoch 12/200\n",
            "8/8 [==============================] - 1s 137ms/step - loss: 48.3511 - mae: 48.8511 - val_loss: 46.9608 - val_mae: 47.4608\n",
            "Epoch 13/200\n",
            "8/8 [==============================] - 1s 136ms/step - loss: 48.3268 - mae: 48.8268 - val_loss: 46.9410 - val_mae: 47.4410\n",
            "Epoch 14/200\n",
            "8/8 [==============================] - 1s 134ms/step - loss: 48.3064 - mae: 48.8064 - val_loss: 46.9209 - val_mae: 47.4209\n",
            "Epoch 15/200\n",
            "8/8 [==============================] - 1s 131ms/step - loss: 48.2824 - mae: 48.7824 - val_loss: 46.9005 - val_mae: 47.4005\n",
            "Epoch 16/200\n",
            "8/8 [==============================] - 1s 134ms/step - loss: 48.2666 - mae: 48.7666 - val_loss: 46.8797 - val_mae: 47.3797\n",
            "Epoch 17/200\n",
            "8/8 [==============================] - 1s 135ms/step - loss: 48.2426 - mae: 48.7426 - val_loss: 46.8584 - val_mae: 47.3584\n",
            "Epoch 18/200\n",
            "8/8 [==============================] - 1s 134ms/step - loss: 48.2209 - mae: 48.7209 - val_loss: 46.8366 - val_mae: 47.3366\n",
            "Epoch 19/200\n",
            "8/8 [==============================] - 1s 137ms/step - loss: 48.1960 - mae: 48.6960 - val_loss: 46.8140 - val_mae: 47.3140\n",
            "Epoch 20/200\n",
            "8/8 [==============================] - 1s 133ms/step - loss: 48.1770 - mae: 48.6770 - val_loss: 46.7909 - val_mae: 47.2909\n",
            "Epoch 21/200\n",
            "8/8 [==============================] - 1s 137ms/step - loss: 48.1499 - mae: 48.6499 - val_loss: 46.7670 - val_mae: 47.2670\n",
            "Epoch 22/200\n",
            "8/8 [==============================] - 1s 132ms/step - loss: 48.1264 - mae: 48.6264 - val_loss: 46.7423 - val_mae: 47.2423\n",
            "Epoch 23/200\n",
            "8/8 [==============================] - 1s 134ms/step - loss: 48.1004 - mae: 48.6004 - val_loss: 46.7166 - val_mae: 47.2166\n",
            "Epoch 24/200\n",
            "8/8 [==============================] - 1s 137ms/step - loss: 48.0695 - mae: 48.5695 - val_loss: 46.6895 - val_mae: 47.1895\n",
            "Epoch 25/200\n",
            "8/8 [==============================] - 1s 132ms/step - loss: 48.0443 - mae: 48.5443 - val_loss: 46.6612 - val_mae: 47.1612\n",
            "Epoch 26/200\n",
            "8/8 [==============================] - 1s 134ms/step - loss: 48.0170 - mae: 48.5170 - val_loss: 46.6316 - val_mae: 47.1316\n",
            "Epoch 27/200\n",
            "8/8 [==============================] - 1s 135ms/step - loss: 47.9846 - mae: 48.4846 - val_loss: 46.6004 - val_mae: 47.1004\n",
            "Epoch 28/200\n",
            "8/8 [==============================] - 1s 134ms/step - loss: 47.9492 - mae: 48.4492 - val_loss: 46.5672 - val_mae: 47.0672\n",
            "Epoch 29/200\n",
            "8/8 [==============================] - 1s 136ms/step - loss: 47.9176 - mae: 48.4176 - val_loss: 46.5320 - val_mae: 47.0320\n",
            "Epoch 30/200\n",
            "8/8 [==============================] - 1s 135ms/step - loss: 47.8829 - mae: 48.3829 - val_loss: 46.4946 - val_mae: 46.9946\n",
            "Epoch 31/200\n",
            "8/8 [==============================] - 1s 134ms/step - loss: 47.8493 - mae: 48.3493 - val_loss: 46.4554 - val_mae: 46.9554\n",
            "Epoch 32/200\n",
            "8/8 [==============================] - 1s 134ms/step - loss: 47.8086 - mae: 48.3086 - val_loss: 46.4140 - val_mae: 46.9140\n",
            "Epoch 33/200\n",
            "8/8 [==============================] - 1s 135ms/step - loss: 47.7599 - mae: 48.2599 - val_loss: 46.3693 - val_mae: 46.8693\n",
            "Epoch 34/200\n",
            "8/8 [==============================] - 1s 137ms/step - loss: 47.7204 - mae: 48.2204 - val_loss: 46.3213 - val_mae: 46.8213\n",
            "Epoch 35/200\n",
            "8/8 [==============================] - 1s 132ms/step - loss: 47.6598 - mae: 48.1598 - val_loss: 46.2695 - val_mae: 46.7695\n",
            "Epoch 36/200\n",
            "8/8 [==============================] - 1s 134ms/step - loss: 47.5997 - mae: 48.0997 - val_loss: 46.2124 - val_mae: 46.7124\n",
            "Epoch 37/200\n",
            "8/8 [==============================] - 1s 134ms/step - loss: 47.5392 - mae: 48.0392 - val_loss: 46.1494 - val_mae: 46.6494\n",
            "Epoch 38/200\n",
            "8/8 [==============================] - 1s 134ms/step - loss: 47.4768 - mae: 47.9768 - val_loss: 46.0800 - val_mae: 46.5800\n",
            "Epoch 39/200\n",
            "8/8 [==============================] - 1s 136ms/step - loss: 47.4003 - mae: 47.9003 - val_loss: 46.0030 - val_mae: 46.5030\n",
            "Epoch 40/200\n",
            "8/8 [==============================] - 1s 136ms/step - loss: 47.3222 - mae: 47.8222 - val_loss: 45.9170 - val_mae: 46.4170\n",
            "Epoch 41/200\n",
            "8/8 [==============================] - 1s 132ms/step - loss: 47.2314 - mae: 47.7314 - val_loss: 45.8199 - val_mae: 46.3199\n",
            "Epoch 42/200\n",
            "8/8 [==============================] - 1s 133ms/step - loss: 47.1244 - mae: 47.6244 - val_loss: 45.7093 - val_mae: 46.2093\n",
            "Epoch 43/200\n",
            "8/8 [==============================] - 1s 137ms/step - loss: 47.0083 - mae: 47.5083 - val_loss: 45.5824 - val_mae: 46.0824\n",
            "Epoch 44/200\n",
            "8/8 [==============================] - 1s 134ms/step - loss: 46.8876 - mae: 47.3876 - val_loss: 45.4375 - val_mae: 45.9375\n",
            "Epoch 45/200\n",
            "8/8 [==============================] - 1s 136ms/step - loss: 46.7185 - mae: 47.2185 - val_loss: 45.2683 - val_mae: 45.7683\n",
            "Epoch 46/200\n",
            "8/8 [==============================] - 1s 138ms/step - loss: 46.5498 - mae: 47.0498 - val_loss: 45.0701 - val_mae: 45.5701\n",
            "Epoch 47/200\n",
            "8/8 [==============================] - 1s 138ms/step - loss: 46.3083 - mae: 46.8082 - val_loss: 44.8326 - val_mae: 45.3326\n",
            "Epoch 48/200\n",
            "8/8 [==============================] - 1s 137ms/step - loss: 46.0536 - mae: 46.5536 - val_loss: 44.5448 - val_mae: 45.0448\n",
            "Epoch 49/200\n",
            "8/8 [==============================] - 1s 135ms/step - loss: 45.7476 - mae: 46.2476 - val_loss: 44.1919 - val_mae: 44.6919\n",
            "Epoch 50/200\n",
            "8/8 [==============================] - 1s 134ms/step - loss: 45.3414 - mae: 45.8414 - val_loss: 43.7509 - val_mae: 44.2509\n",
            "Epoch 51/200\n",
            "8/8 [==============================] - 1s 134ms/step - loss: 44.8820 - mae: 45.3820 - val_loss: 43.1900 - val_mae: 43.6900\n",
            "Epoch 52/200\n",
            "8/8 [==============================] - 1s 135ms/step - loss: 44.3155 - mae: 44.8155 - val_loss: 42.4583 - val_mae: 42.9583\n",
            "Epoch 53/200\n",
            "8/8 [==============================] - 1s 139ms/step - loss: 43.4209 - mae: 43.9209 - val_loss: 41.4728 - val_mae: 41.9728\n",
            "Epoch 54/200\n",
            "8/8 [==============================] - 1s 140ms/step - loss: 42.3675 - mae: 42.8675 - val_loss: 40.1019 - val_mae: 40.6019\n",
            "Epoch 55/200\n",
            "8/8 [==============================] - 1s 138ms/step - loss: 40.6319 - mae: 41.1319 - val_loss: 38.0682 - val_mae: 38.5682\n",
            "Epoch 56/200\n",
            "8/8 [==============================] - 1s 137ms/step - loss: 38.2007 - mae: 38.7007 - val_loss: 34.8621 - val_mae: 35.3621\n",
            "Epoch 57/200\n",
            "8/8 [==============================] - 1s 140ms/step - loss: 34.3565 - mae: 34.8558 - val_loss: 29.4478 - val_mae: 29.9478\n",
            "Epoch 58/200\n",
            "8/8 [==============================] - 1s 136ms/step - loss: 28.4442 - mae: 28.9394 - val_loss: 22.5012 - val_mae: 23.0012\n",
            "Epoch 59/200\n",
            "8/8 [==============================] - 1s 133ms/step - loss: 22.4539 - mae: 22.9484 - val_loss: 22.6218 - val_mae: 23.1218\n",
            "Epoch 60/200\n",
            "8/8 [==============================] - 1s 141ms/step - loss: 21.2724 - mae: 21.7685 - val_loss: 23.2516 - val_mae: 23.7516\n",
            "Epoch 61/200\n",
            "8/8 [==============================] - 1s 134ms/step - loss: 20.8299 - mae: 21.3254 - val_loss: 23.1864 - val_mae: 23.6864\n",
            "Epoch 62/200\n",
            "8/8 [==============================] - 1s 132ms/step - loss: 19.7043 - mae: 20.2011 - val_loss: 22.7042 - val_mae: 23.2042\n",
            "Epoch 63/200\n",
            "8/8 [==============================] - 1s 139ms/step - loss: 20.4872 - mae: 20.9830 - val_loss: 22.2714 - val_mae: 22.7714\n",
            "Epoch 64/200\n",
            "8/8 [==============================] - 1s 136ms/step - loss: 20.1504 - mae: 20.6441 - val_loss: 21.8448 - val_mae: 22.3448\n",
            "Epoch 65/200\n",
            "8/8 [==============================] - 1s 135ms/step - loss: 19.2009 - mae: 19.6955 - val_loss: 21.2657 - val_mae: 21.7657\n",
            "Epoch 66/200\n",
            "8/8 [==============================] - 1s 140ms/step - loss: 19.2010 - mae: 19.6951 - val_loss: 20.7108 - val_mae: 21.2108\n",
            "Epoch 67/200\n",
            "8/8 [==============================] - 1s 137ms/step - loss: 18.6602 - mae: 19.1563 - val_loss: 19.8978 - val_mae: 20.3978\n",
            "Epoch 68/200\n",
            "8/8 [==============================] - 1s 139ms/step - loss: 17.2078 - mae: 17.7025 - val_loss: 18.8232 - val_mae: 19.3232\n",
            "Epoch 69/200\n",
            "8/8 [==============================] - 1s 138ms/step - loss: 16.9854 - mae: 17.4791 - val_loss: 16.9496 - val_mae: 17.4496\n",
            "Epoch 70/200\n",
            "8/8 [==============================] - 1s 137ms/step - loss: 14.9052 - mae: 15.3974 - val_loss: 14.1758 - val_mae: 14.6684\n",
            "Epoch 71/200\n",
            "8/8 [==============================] - 1s 140ms/step - loss: 13.0882 - mae: 13.5838 - val_loss: 12.0119 - val_mae: 12.5119\n",
            "Epoch 72/200\n",
            "8/8 [==============================] - 1s 134ms/step - loss: 11.7280 - mae: 12.2155 - val_loss: 13.8023 - val_mae: 14.3023\n",
            "Epoch 73/200\n",
            "8/8 [==============================] - 1s 135ms/step - loss: 11.9324 - mae: 12.4177 - val_loss: 11.3394 - val_mae: 11.8394\n",
            "Epoch 74/200\n",
            "8/8 [==============================] - 1s 139ms/step - loss: 11.1938 - mae: 11.6837 - val_loss: 10.0936 - val_mae: 10.5785\n",
            "Epoch 75/200\n",
            "8/8 [==============================] - 1s 136ms/step - loss: 10.7047 - mae: 11.1963 - val_loss: 8.9114 - val_mae: 9.3915\n",
            "Epoch 76/200\n",
            "8/8 [==============================] - 1s 138ms/step - loss: 11.2526 - mae: 11.7417 - val_loss: 9.6435 - val_mae: 10.1435\n",
            "Epoch 77/200\n",
            "8/8 [==============================] - 1s 135ms/step - loss: 10.8510 - mae: 11.3386 - val_loss: 6.7591 - val_mae: 7.1744\n",
            "Epoch 78/200\n",
            "8/8 [==============================] - 1s 136ms/step - loss: 10.6575 - mae: 11.1465 - val_loss: 6.1318 - val_mae: 6.5869\n",
            "Epoch 79/200\n",
            "8/8 [==============================] - 1s 135ms/step - loss: 11.1171 - mae: 11.6049 - val_loss: 11.5910 - val_mae: 12.0910\n",
            "Epoch 80/200\n",
            "8/8 [==============================] - 1s 136ms/step - loss: 10.7209 - mae: 11.2044 - val_loss: 10.0535 - val_mae: 10.5535\n",
            "Epoch 81/200\n",
            "8/8 [==============================] - 1s 140ms/step - loss: 9.7717 - mae: 10.2587 - val_loss: 4.2062 - val_mae: 4.6001\n",
            "Epoch 82/200\n",
            "8/8 [==============================] - 1s 136ms/step - loss: 10.6973 - mae: 11.1844 - val_loss: 10.6338 - val_mae: 11.1338\n",
            "Epoch 83/200\n",
            "8/8 [==============================] - 1s 136ms/step - loss: 10.0406 - mae: 10.5248 - val_loss: 6.0263 - val_mae: 6.4867\n",
            "Epoch 84/200\n",
            "8/8 [==============================] - 1s 137ms/step - loss: 10.1230 - mae: 10.6090 - val_loss: 5.9740 - val_mae: 6.4300\n",
            "Epoch 85/200\n",
            "8/8 [==============================] - 1s 137ms/step - loss: 9.1801 - mae: 9.6651 - val_loss: 8.6327 - val_mae: 9.1299\n",
            "Epoch 86/200\n",
            "8/8 [==============================] - 1s 136ms/step - loss: 9.6931 - mae: 10.1819 - val_loss: 8.6026 - val_mae: 9.1017\n",
            "Epoch 87/200\n",
            "8/8 [==============================] - 1s 135ms/step - loss: 9.2198 - mae: 9.7088 - val_loss: 7.9991 - val_mae: 8.4991\n",
            "Epoch 88/200\n",
            "8/8 [==============================] - 1s 135ms/step - loss: 9.6627 - mae: 10.1489 - val_loss: 9.7223 - val_mae: 10.2222\n",
            "Epoch 89/200\n",
            "8/8 [==============================] - 1s 136ms/step - loss: 9.8875 - mae: 10.3747 - val_loss: 6.4373 - val_mae: 6.9241\n",
            "Epoch 90/200\n",
            "8/8 [==============================] - 1s 136ms/step - loss: 9.3531 - mae: 9.8375 - val_loss: 5.1288 - val_mae: 5.6233\n",
            "Epoch 91/200\n",
            "8/8 [==============================] - 1s 134ms/step - loss: 9.3411 - mae: 9.8285 - val_loss: 7.2973 - val_mae: 7.7933\n",
            "Epoch 92/200\n",
            "8/8 [==============================] - 1s 139ms/step - loss: 9.4336 - mae: 9.9206 - val_loss: 6.9903 - val_mae: 7.4812\n",
            "Epoch 93/200\n",
            "8/8 [==============================] - 1s 133ms/step - loss: 9.7869 - mae: 10.2744 - val_loss: 6.9652 - val_mae: 7.4507\n",
            "Epoch 94/200\n",
            "8/8 [==============================] - 1s 133ms/step - loss: 8.7997 - mae: 9.2853 - val_loss: 5.5119 - val_mae: 5.9568\n",
            "Epoch 95/200\n",
            "8/8 [==============================] - 1s 136ms/step - loss: 9.3515 - mae: 9.8362 - val_loss: 2.9859 - val_mae: 3.4076\n",
            "Epoch 96/200\n",
            "8/8 [==============================] - 1s 134ms/step - loss: 9.1445 - mae: 9.6274 - val_loss: 5.3477 - val_mae: 5.8029\n",
            "Epoch 97/200\n",
            "8/8 [==============================] - 1s 133ms/step - loss: 9.4589 - mae: 9.9497 - val_loss: 5.9906 - val_mae: 6.4637\n",
            "Epoch 98/200\n",
            "8/8 [==============================] - 1s 133ms/step - loss: 8.4326 - mae: 8.9178 - val_loss: 6.0938 - val_mae: 6.5845\n",
            "Epoch 99/200\n",
            "8/8 [==============================] - 1s 134ms/step - loss: 8.5230 - mae: 9.0077 - val_loss: 3.8641 - val_mae: 4.3257\n",
            "Epoch 100/200\n",
            "8/8 [==============================] - 1s 135ms/step - loss: 8.2572 - mae: 8.7413 - val_loss: 3.3215 - val_mae: 3.7543\n",
            "Epoch 101/200\n",
            "8/8 [==============================] - 1s 140ms/step - loss: 8.3800 - mae: 8.8653 - val_loss: 5.8099 - val_mae: 6.2741\n",
            "Epoch 102/200\n",
            "8/8 [==============================] - 1s 137ms/step - loss: 8.6257 - mae: 9.1158 - val_loss: 4.5534 - val_mae: 4.9750\n",
            "Epoch 103/200\n",
            "8/8 [==============================] - 1s 139ms/step - loss: 8.8353 - mae: 9.3185 - val_loss: 5.7086 - val_mae: 6.2059\n",
            "Epoch 104/200\n",
            "8/8 [==============================] - 1s 135ms/step - loss: 8.4710 - mae: 8.9523 - val_loss: 2.4257 - val_mae: 2.8121\n",
            "Epoch 105/200\n",
            "8/8 [==============================] - 1s 138ms/step - loss: 9.0052 - mae: 9.4922 - val_loss: 3.4125 - val_mae: 3.8840\n",
            "Epoch 106/200\n",
            "8/8 [==============================] - 1s 137ms/step - loss: 9.0136 - mae: 9.5005 - val_loss: 5.1637 - val_mae: 5.6617\n",
            "Epoch 107/200\n",
            "8/8 [==============================] - 1s 140ms/step - loss: 8.3254 - mae: 8.8072 - val_loss: 2.4816 - val_mae: 2.8781\n",
            "Epoch 108/200\n",
            "8/8 [==============================] - 1s 135ms/step - loss: 8.4296 - mae: 8.9182 - val_loss: 3.2731 - val_mae: 3.6809\n",
            "Epoch 109/200\n",
            "8/8 [==============================] - 1s 139ms/step - loss: 8.7636 - mae: 9.2508 - val_loss: 3.4575 - val_mae: 3.8763\n",
            "Epoch 110/200\n",
            "8/8 [==============================] - 1s 135ms/step - loss: 8.7494 - mae: 9.2349 - val_loss: 6.3255 - val_mae: 6.8253\n",
            "Epoch 111/200\n",
            "8/8 [==============================] - 1s 137ms/step - loss: 9.1332 - mae: 9.6208 - val_loss: 4.7503 - val_mae: 5.2465\n",
            "Epoch 112/200\n",
            "8/8 [==============================] - 1s 136ms/step - loss: 9.3586 - mae: 9.8493 - val_loss: 2.9591 - val_mae: 3.4088\n",
            "Epoch 113/200\n",
            "8/8 [==============================] - 1s 136ms/step - loss: 8.8835 - mae: 9.3693 - val_loss: 3.3198 - val_mae: 3.7808\n",
            "Epoch 114/200\n",
            "8/8 [==============================] - 1s 137ms/step - loss: 8.7361 - mae: 9.2252 - val_loss: 4.5386 - val_mae: 5.0239\n",
            "Epoch 115/200\n",
            "8/8 [==============================] - 1s 139ms/step - loss: 8.4567 - mae: 8.9413 - val_loss: 7.4233 - val_mae: 7.9233\n",
            "Epoch 116/200\n",
            "8/8 [==============================] - 1s 137ms/step - loss: 8.5862 - mae: 9.0711 - val_loss: 5.8284 - val_mae: 6.3277\n",
            "Epoch 117/200\n",
            "8/8 [==============================] - 1s 137ms/step - loss: 8.1730 - mae: 8.6541 - val_loss: 6.1992 - val_mae: 6.6916\n",
            "\n",
            "MAE telah mencapai < 10% skala data!\n"
          ],
          "name": "stdout"
        }
      ]
    }
  ]
}